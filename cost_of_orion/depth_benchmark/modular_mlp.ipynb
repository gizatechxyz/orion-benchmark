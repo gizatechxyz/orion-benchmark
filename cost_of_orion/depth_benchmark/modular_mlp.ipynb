{
 "cells": [
  {
   "cell_type": "code",
   "execution_count": 30,
   "metadata": {},
   "outputs": [],
   "source": [
    "import numpy as np\n",
    "import torch\n",
    "import torch.nn as nn\n",
    "import torch.onnx"
   ]
  },
  {
   "cell_type": "code",
   "execution_count": 31,
   "metadata": {},
   "outputs": [],
   "source": [
    "class ModularMLP(nn.Module):\n",
    "    def __init__(self, config):\n",
    "        super(ModularMLP, self).__init__()\n",
    "        self.input_size = config['input_size']\n",
    "        self.layer_size = config['layer_size']\n",
    "        self.num_hidden_layers = config['num_hidden_size']\n",
    "        self.output_size = config['output_size']\n",
    "\n",
    "        layers = []\n",
    "        layers.append(nn.Linear(self.input_size, self.layer_size))\n",
    "        layers.append(nn.ReLU())\n",
    "\n",
    "        for _ in range(self.num_hidden_layers - 1):  # -1 because we want to add the final layer separately\n",
    "            layers.append(nn.Linear(self.layer_size, self.layer_size))\n",
    "            layers.append(nn.ReLU())\n",
    "\n",
    "        layers.append(nn.Linear(self.layer_size, self.output_size))\n",
    "\n",
    "        self.net = nn.Sequential(*layers)\n",
    "\n",
    "    def forward(self, x):\n",
    "        return self.net(x)\n",
    "\n",
    "    def initialize_random_weights(self):\n",
    "        for m in self.modules():\n",
    "            if isinstance(m, nn.Linear):\n",
    "                nn.init.normal_(m.weight)\n",
    "                nn.init.normal_(m.bias)\n",
    "\n",
    "# Export the model to ONNX\n",
    "def export_to_onnx(model, dummy_input, filename):\n",
    "    torch.onnx.export(model, dummy_input, filename)"
   ]
  },
  {
   "cell_type": "code",
   "execution_count": 32,
   "metadata": {},
   "outputs": [
    {
     "name": "stdout",
     "output_type": "stream",
     "text": [
      "================ Diagnostic Run torch.onnx.export version 2.0.1 ================\n",
      "verbose: False, log level: Level.ERROR\n",
      "======================= 0 NONE 0 NOTE 0 WARNING 0 ERROR ========================\n",
      "\n"
     ]
    }
   ],
   "source": [
    "config = {\n",
    "    'input_size': 200,\n",
    "    'layer_size': 100,\n",
    "    'num_hidden_size': 499,\n",
    "    'output_size': 10\n",
    "}\n",
    "\n",
    "model = ModularMLP(config)\n",
    "model.initialize_random_weights()  # Initialize with random weights\n",
    "\n",
    "# Export the model\n",
    "dummy_input = torch.randn(1, config['input_size'])  # Single input tensor of shape [1, 200]\n",
    "export_to_onnx(model, dummy_input, f\"mlp_{config['num_hidden_size']}.onnx\")"
   ]
  },
  {
   "cell_type": "code",
   "execution_count": null,
   "metadata": {},
   "outputs": [],
   "source": []
  }
 ],
 "metadata": {
  "kernelspec": {
   "display_name": "base",
   "language": "python",
   "name": "python3"
  },
  "language_info": {
   "codemirror_mode": {
    "name": "ipython",
    "version": 3
   },
   "file_extension": ".py",
   "mimetype": "text/x-python",
   "name": "python",
   "nbconvert_exporter": "python",
   "pygments_lexer": "ipython3",
   "version": "3.10.9"
  },
  "orig_nbformat": 4
 },
 "nbformat": 4,
 "nbformat_minor": 2
}
